{
 "cells": [
  {
   "cell_type": "code",
   "execution_count": null,
   "metadata": {},
   "outputs": [],
   "source": [
    "import os\n",
    "import numpy as np\n",
    "import tensorflow as tf\n",
    "from tensorflow.keras.models import Sequential\n",
    "from tensorflow.keras.layers import Dense,Flatten,Reshape,Dropout,Activation\n",
    "from tensorflow.python.keras.layers.convolutional import Conv2D,Conv1D\n",
    "from tensorflow.python.keras.layers.pooling import MaxPooling2D,MaxPooling1D\n",
    "from tensorflow.keras.optimizers import SGD,Adam\n",
    "from tensorflow.keras.preprocessing.image import ImageDataGenerator\n",
    "import os\n",
    "import cv2\n",
    "import numpy as np\n",
    "from tqdm import tqdm \n",
    "from random import shuffle "
   ]
  },
  {
   "cell_type": "code",
   "execution_count": null,
   "metadata": {},
   "outputs": [],
   "source": [
    "data_dir = \"E:/JCH_work/DFSdataset/\" # redefine to your local path\n",
    "image_size = (224, 224)\n",
    "\n",
    "# \n",
    "datagen = ImageDataGenerator(\n",
    "    rescale=1./255,         # 将像素值缩放到[0, 1]\n",
    "    # 水平翻转\n",
    ")\n",
    "\n",
    "# load dataset\n",
    "train_generator = datagen.flow_from_directory(\n",
    "    data_dir,\n",
    "    target_size=image_size,\n",
    "    class_mode='categorical',\n",
    "    shuffle=False,# use categorical for multi-classification\n",
    ")"
   ]
  },
  {
   "cell_type": "code",
   "execution_count": null,
   "metadata": {},
   "outputs": [],
   "source": [
    "datas, labels = next(train_generator)\n",
    "print(np.shape(labels))\n",
    "print(labels)"
   ]
  },
  {
   "cell_type": "code",
   "execution_count": null,
   "metadata": {},
   "outputs": [],
   "source": [
    "import os\n",
    "import cv2\n",
    "import numpy as np\n",
    "\n",
    "all_data_dir = \"E://JCH_work//DFSdataset//\"\n",
    "image_size = (224, 224)\n",
    "\n",
    "# 获取测试数据文件名和标签\n",
    "all_data = []\n",
    "all_labels = []\n",
    "for label in os.listdir(all_data_dir):\n",
    "    label_dir = os.path.join(all_data_dir, label)\n",
    "    for filename in os.listdir(label_dir):\n",
    "        img_path = os.path.join(label_dir, filename)\n",
    "        img = cv2.imread(img_path)\n",
    "        #img = cv2.imread(img_path)\n",
    "        img = cv2.resize(img, image_size)\n",
    "        all_data.append(img)\n",
    "        all_labels.append(int(label))  # 如果是多类别，需要根据实际情况进行标签处理\n",
    "\n",
    "# 转换为NumPy数组\n",
    "all_data = np.array(all_data)\n",
    "all_labels = np.array(all_labels)\n",
    "\n",
    "# 对测试数据进行预处理，例如归一化\n",
    "all_data = all_data / 255.0"
   ]
  },
  {
   "cell_type": "code",
   "execution_count": null,
   "metadata": {},
   "outputs": [],
   "source": [
    "from sklearn.preprocessing import LabelEncoder, OneHotEncoder\n",
    "onehot_encoder = OneHotEncoder(sparse=False)\n",
    "onehot_encoded = onehot_encoder.fit_transform(all_labels.reshape(-1, 1))\n",
    "print(onehot_encoded)\n",
    "all_labels=onehot_encoded\n",
    "\n",
    "print(np.shape(all_data))\n",
    "from sklearn.model_selection import train_test_split\n",
    "train_data, test_data, train_labels, test_labels = train_test_split(all_data, all_labels, test_size=0.2, random_state=42) #generate data and label for trianing and test"
   ]
  }
 ],
 "metadata": {
  "language_info": {
   "name": "python"
  }
 },
 "nbformat": 4,
 "nbformat_minor": 2
}
